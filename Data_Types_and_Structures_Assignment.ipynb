{
  "nbformat": 4,
  "nbformat_minor": 0,
  "metadata": {
    "colab": {
      "provenance": []
    },
    "kernelspec": {
      "name": "python3",
      "display_name": "Python 3"
    },
    "language_info": {
      "name": "python"
    }
  },
  "cells": [
    {
      "cell_type": "markdown",
      "source": [
        "Q.1. What are data structures, and why are they important?"
      ],
      "metadata": {
        "id": "CUeeiXX8wHd7"
      }
    },
    {
      "cell_type": "markdown",
      "source": [
        "Ans. Data structures are specialized formats for organizing, storing, and accessing collections of data. They provide efficient ways to manage information based on its characteristics and intended use.\n",
        "\n",
        "Think of them as containers that hold your data and determine how you can interact with it. Different containers are better suited for different types of items."
      ],
      "metadata": {
        "id": "VipbU4vBxM0b"
      }
    },
    {
      "cell_type": "markdown",
      "source": [
        "Q.2. Explain the difference between mutable and immutable data types with examples?"
      ],
      "metadata": {
        "id": "gvpOzEYEFUbV"
      }
    },
    {
      "cell_type": "markdown",
      "source": [
        "Ans. Mutable data types can be modified after they are created, while immutable data types cannot.\n",
        "\n",
        "Here are some examples:"
      ],
      "metadata": {
        "id": "NkXl9n3IGOiv"
      }
    },
    {
      "cell_type": "markdown",
      "source": [
        "Mutable data types:\n",
        "\n",
        "Lists: You can add, remove, or change elements in a list.\n"
      ],
      "metadata": {
        "id": "yAyYFHXnMN49"
      }
    },
    {
      "cell_type": "code",
      "source": [
        "my_list = [1, 2, 3]\n",
        "my_list.append(4)\n",
        "print(my_list)  # Output: [1, 2, 3, 4]"
      ],
      "metadata": {
        "colab": {
          "base_uri": "https://localhost:8080/"
        },
        "id": "fGenI6K-MWNR",
        "outputId": "7ed43230-af49-4e6d-f03e-b770aa97e2ce"
      },
      "execution_count": null,
      "outputs": [
        {
          "output_type": "stream",
          "name": "stdout",
          "text": [
            "[1, 2, 3, 4]\n"
          ]
        }
      ]
    },
    {
      "cell_type": "markdown",
      "source": [
        "Dictionaries: You can add, remove, or change key-value pairs in a dictionary."
      ],
      "metadata": {
        "id": "SDzKpoj5M3qu"
      }
    },
    {
      "cell_type": "code",
      "source": [
        "my_dict = {'a': 1, 'b': 2}\n",
        "my_dict['c'] = 3\n",
        "print(my_dict)  # Output: {'a': 1, 'b': 2, 'c': 3}"
      ],
      "metadata": {
        "colab": {
          "base_uri": "https://localhost:8080/"
        },
        "id": "jW-WMXCXM90e",
        "outputId": "ae86a472-dccc-4b4f-e4b1-5ec484f38f95"
      },
      "execution_count": null,
      "outputs": [
        {
          "output_type": "stream",
          "name": "stdout",
          "text": [
            "{'a': 1, 'b': 2, 'c': 3}\n"
          ]
        }
      ]
    },
    {
      "cell_type": "markdown",
      "source": [
        "Immutable data types:\n",
        "\n",
        "Tuples: You cannot change the elements of a tuple after it is created."
      ],
      "metadata": {
        "id": "9io7v2p1NKQV"
      }
    },
    {
      "cell_type": "code",
      "source": [
        "my_tuple = (1, 2, 3)\n",
        "# my_tuple[0] = 4  # This will raise a TypeError"
      ],
      "metadata": {
        "id": "iRBJl0z4NPXr"
      },
      "execution_count": null,
      "outputs": []
    },
    {
      "cell_type": "markdown",
      "source": [
        "Strings: You cannot change individual characters in a string."
      ],
      "metadata": {
        "id": "3QZ2PEoONZlE"
      }
    },
    {
      "cell_type": "code",
      "source": [
        "my_string = \"Hello\"\n",
        "# my_string[0] = 'J'  # This will raise a TypeError"
      ],
      "metadata": {
        "id": "XRrN7396Ng7G"
      },
      "execution_count": null,
      "outputs": []
    },
    {
      "cell_type": "markdown",
      "source": [
        "Q.3. What are the main differences between lists and tuples in Python?"
      ],
      "metadata": {
        "id": "sNPygAd6eHLH"
      }
    },
    {
      "cell_type": "markdown",
      "source": [
        "Ans. The main difference between lists and tuples in Python is that lists are mutable, meaning their elements can be changed, while tuples are immutable, so their elements cannot be changed after creation.\n",
        "\n"
      ],
      "metadata": {
        "id": "_oCFjVFgeSju"
      }
    },
    {
      "cell_type": "markdown",
      "source": [
        "Q.4. Describe how dictionaries store data?"
      ],
      "metadata": {
        "id": "wGOiKOBler-4"
      }
    },
    {
      "cell_type": "markdown",
      "source": [
        "Ans. Dictionaries in Python store data in key-value pairs. Each unique key is associated with a specific value. This structure allows for fast and efficient data retrieval based on the key, rather than by a numerical index."
      ],
      "metadata": {
        "id": "tjOQEWYqeyzY"
      }
    },
    {
      "cell_type": "markdown",
      "source": [
        "Q.5. Why might you use a set instead of a list in Python?"
      ],
      "metadata": {
        "id": "9CpvA7UUfbEg"
      }
    },
    {
      "cell_type": "markdown",
      "source": [
        "Ans. You would use a set instead of a list in Python when you need to store a collection of unique items and require fast membership testing (checking if an item exists in the collection). Sets are unordered and do not allow duplicate elements, which are their defining characteristics.\n",
        "\n",
        "Key Reasons to Use a Set\n",
        "\n",
        "Uniqueness: Sets automatically handle uniqueness. If you add a duplicate item to a set, it simply gets ignored without raising an error. This is incredibly useful for tasks like removing duplicates from a list.\n",
        "\n",
        "Performance: Sets are highly optimized for checking membership using the in operator. The average time complexity for checking if an item is in a set is O(1) (constant time), while for a list, it's O(n) (linear time), meaning it gets slower as the list grows. This performance difference makes sets ideal for tasks that involve frequent lookups.\n",
        "\n",
        "Mathematical Operations: Sets support common mathematical set operations like union, intersection, difference, and symmetric difference. These operations provide a powerful and concise way to compare and combine collections of data.\n",
        "\n"
      ],
      "metadata": {
        "id": "1VE4Otxyf3NE"
      }
    },
    {
      "cell_type": "markdown",
      "source": [
        "Q.6. What is a string in Python, and how is it different from a list?"
      ],
      "metadata": {
        "id": "zwfVzAyygkDa"
      }
    },
    {
      "cell_type": "markdown",
      "source": [
        "Ans. A string in Python is an immutable sequence of characters, while a list is a mutable sequence of objects. Strings are used to represent text, and lists can hold any type of data, including numbers, other lists, and strings.\n",
        "\n",
        "Strings:\n",
        "\n",
        "A string  is a data type used to represent text. In python, a string is an immutable sequence, meaning that once it's created, you can't change its individual characters.\n",
        "Strings are often defined using single, double, or triple quotes.\n",
        "\n",
        "List:\n",
        "\n",
        "A list is data type used to store a collection of items. A list is a mutable sequence, which means you can change its contents after it's created. You can add, remove, or modify items within a list.\n",
        "Lists are defined using square brackets[] and the items are separated by commas.\n"
      ],
      "metadata": {
        "id": "o3oc-fqlhFJ5"
      }
    },
    {
      "cell_type": "markdown",
      "source": [
        "Q.7. How do tuples ensure data integrity in Python?"
      ],
      "metadata": {
        "id": "K9DrrWMhlLw9"
      }
    },
    {
      "cell_type": "markdown",
      "source": [
        "Ans. Tuples ensure data integrity in Python by being immutable. Once a tuple is created, you cannot change, add, or remove its elements. This immutability guarantees that the data stored in the tuple remains constant throughout the program's execution, which is crucial for maintaining data integrity."
      ],
      "metadata": {
        "id": "4aZRDdwZlUqB"
      }
    },
    {
      "cell_type": "markdown",
      "source": [
        "Q.8. What is a hash table, and how does it relate to dictionaries in Python?"
      ],
      "metadata": {
        "id": "BTuGhc_omTPD"
      }
    },
    {
      "cell_type": "markdown",
      "source": [
        "Ans. A hash table is a data structure that stores key-value pairs by using a hash function to map a key to a specific index in an array. This method allows for very fast data lookups, insertions, and deletions, with an average time complexity of O(1) (constant time).\n",
        "\n",
        "Hash Tables and Python Dictionaries\n",
        "\n",
        "​In Python, a dictionary is the built-in, high-level implementation of a hash table. While you use the dictionary data type in your code, the underlying mechanism that makes it so efficient is a hash table.\n",
        "\n",
        "​The direct relationship is this:\n",
        "\n",
        "​A hash table is the abstract concept and underlying data structure.  \n",
        "​A dictionary is the concrete Python implementation of that concept.\n",
        "\n"
      ],
      "metadata": {
        "id": "campQ9mWmZnI"
      }
    },
    {
      "cell_type": "markdown",
      "source": [
        "Q.9. Can lists contain different data types in Python?"
      ],
      "metadata": {
        "id": "Y9FWV0uNqJTk"
      }
    },
    {
      "cell_type": "markdown",
      "source": [
        "Ans. Yes, lists can contain different data types in Python. A single list can hold a mix of integers, strings, floats, booleans, and even other lists, tuples, or dictionaries. This is a key feature of Python's dynamic typing, which makes lists highly versatile."
      ],
      "metadata": {
        "id": "yxHXEwEEqbgh"
      }
    },
    {
      "cell_type": "markdown",
      "source": [
        "Q.10. Explain why strings are immutable in Python?"
      ],
      "metadata": {
        "id": "A-Uoe9ddqecw"
      }
    },
    {
      "cell_type": "markdown",
      "source": [
        "Ans. Strings are immutable in Python because this design choice provides several key benefits, including performance optimization, memory efficiency, and thread safety. Once a string is created, its contents cannot be changed. Any operation that seems to \"modify\" a string, like uppercasing it, actually creates a new string with the desired changes."
      ],
      "metadata": {
        "id": "6bQoFwJDqkWW"
      }
    },
    {
      "cell_type": "markdown",
      "source": [
        "Q.11. What advantages do dictionaries offer over lists for certain tasks?"
      ],
      "metadata": {
        "id": "PIeXbsHwrPPh"
      }
    },
    {
      "cell_type": "markdown",
      "source": [
        "Ans. Dictionaries offer significant advantages over lists for tasks that involve quick data lookups, associating data with unique identifiers, and representing structured data. The key benefit is that they are optimized for accessing values by a key, rather than by an index."
      ],
      "metadata": {
        "id": "O9GdzkiBrUt_"
      }
    },
    {
      "cell_type": "markdown",
      "source": [
        "Q.12. Describe a scenario where using a tuple would be preferable over a list."
      ],
      "metadata": {
        "id": "nqdqnphnrx87"
      }
    },
    {
      "cell_type": "markdown",
      "source": [
        "Ans. Using a tuple is preferable over a list when you need to store a collection of items that should not be changed after they are created. Tuples are immutable, which provides data integrity and makes them suitable for constant data.\n",
        "\n",
        "Scenario: Storing Geographic Coordinates\n",
        "\n",
        "Imagine you're developing an application that deals with geographic data. You need to store the latitude and longitude of a specific location.\n",
        "\n",
        "\n",
        "​Why a list is a bad choice: If you store the coordinates in a list, like location = [40.7128, -74.0060], the data is mutable. Another part of your code could accidentally or intentionally modify this list, leading to an incorrect location. For example, a bug could change location[0] to an invalid value, corrupting the data without any warning.\n",
        "\n",
        "\n",
        "​Why a tuple is a good choice: By using a tuple, location = (40.7128, -74.0060), you enforce immutability. Any attempt to change the coordinates, such as location[0] = 41.0, will result in a TypeError, immediately alerting you to the invalid operation.\n",
        "  \n",
        "​This makes tuples ideal for storing fixed data, like coordinates, RGB color values, or database credentials, where the integrity and permanence of the data are critical. Tuples also perform slightly better than lists for these tasks and can be used as keys in a dictionary because they are hashable."
      ],
      "metadata": {
        "id": "V6MM4Mrhr68v"
      }
    },
    {
      "cell_type": "markdown",
      "source": [
        "Q.13. How do sets handle duplicate values in Python?"
      ],
      "metadata": {
        "id": "eqrEY9VuuSeZ"
      }
    },
    {
      "cell_type": "markdown",
      "source": [
        "Ans. Sets in Python handle duplicate values by automatically discarding them. When you add an item that already exists in a set, the set simply ignores the new value and does not raise an error. This behavior is a core characteristic of sets and makes them ideal for tasks that require a collection of unique elements."
      ],
      "metadata": {
        "id": "vh2ZAbA3uZwe"
      }
    },
    {
      "cell_type": "markdown",
      "source": [
        "Q.14. How does the “in” keyword work differently for lists and dictionaries?"
      ],
      "metadata": {
        "id": "A0EONg5Du0Uz"
      }
    },
    {
      "cell_type": "markdown",
      "source": [
        "Ans. The \"in\" keyword in Python checks for the presence of an element within a container, but it works differently for lists and dictionaries due to their underlying data structures. For lists, it checks for a value, whereas for dictionaries, it checks for a key."
      ],
      "metadata": {
        "id": "FE7moDxDvAmf"
      }
    },
    {
      "cell_type": "code",
      "source": [
        "#For Lists\n",
        "\n",
        "my_list = [1, 2, 3, 4, 5]\n",
        "print(3 in my_list)  # Output: True\n",
        "print(6 in my_list)  # Output: False"
      ],
      "metadata": {
        "colab": {
          "base_uri": "https://localhost:8080/"
        },
        "id": "zpKFyIx1wbwl",
        "outputId": "1a20eec9-6887-41fa-9bec-e71103540f2d"
      },
      "execution_count": null,
      "outputs": [
        {
          "output_type": "stream",
          "name": "stdout",
          "text": [
            "True\n",
            "False\n"
          ]
        }
      ]
    },
    {
      "cell_type": "code",
      "source": [
        "#For Dictionaries\n",
        "\n",
        "my_dict = {'name': 'Priya', 'age': 24, 'city': 'Jaipur'}\n",
        "print('name' in my_dict)  # Output: True\n",
        "print('city' in my_dict)  # Output: False\n",
        "print('Priya' in my_dict)  # Output: False"
      ],
      "metadata": {
        "colab": {
          "base_uri": "https://localhost:8080/"
        },
        "id": "r-aMIpigwjP9",
        "outputId": "9a5fa95e-eadc-4718-b828-9d7a7544d861"
      },
      "execution_count": null,
      "outputs": [
        {
          "output_type": "stream",
          "name": "stdout",
          "text": [
            "True\n",
            "True\n",
            "False\n"
          ]
        }
      ]
    },
    {
      "cell_type": "markdown",
      "source": [
        "Q.15.  Can you modify the elements of a tuple? Explain why or why not."
      ],
      "metadata": {
        "id": "LsntyoY5x3eg"
      }
    },
    {
      "cell_type": "markdown",
      "source": [
        "Ans. No, you can't modify the elements of a tuple. Tuples are immutable, which means their contents cannot be changed after they are created. Any operation that attempts to alter a tuple's elements—like adding, removing, or changing an item—will result in a TypeError.\n",
        "\n",
        "Why not?\n",
        "\n",
        "This Design allows tuples to be:\n",
        "\n",
        "Hashable- This allows them to be used as keys in dictionaries and elements in sets.\n",
        "Memory- Efficient\n",
        "\n",
        "Safe for use in constant or fixed collections"
      ],
      "metadata": {
        "id": "s638Vo2SzX9K"
      }
    },
    {
      "cell_type": "markdown",
      "source": [
        "Q.16. What is a nested dictionary, and give an example of its use case?"
      ],
      "metadata": {
        "id": "GFSHgIgy2nHl"
      }
    },
    {
      "cell_type": "markdown",
      "source": [
        "Ans. A nested dictionary is a dictionary where the values of one or more of its keys are themselves other dictionaries. This structure allows you to represent and store hierarchical or complex, multi-layered data in a logical way.\n",
        "\n",
        "Use case example : Storing Employee Data\n",
        "\n",
        "Let's imagine you want to store the names, ages, and departments for a few employees. A single dictionary would work, but a nested dictionary provides a more logical structure, where each employee ID is a key, and its value is another dictionary containing their details."
      ],
      "metadata": {
        "id": "OTfyonGe2s4V"
      }
    },
    {
      "cell_type": "markdown",
      "source": [
        "Q.17. Describe the time complexity of accessing elements in a dictionary."
      ],
      "metadata": {
        "id": "T-NKCLbl4ill"
      }
    },
    {
      "cell_type": "markdown",
      "source": [
        "Ans. Accessing elements in a dictionary has a time complexity of O(1) on average. This means that, on average, the time it takes to retrieve a value from a dictionary is constant, regardless of the number of items it contains."
      ],
      "metadata": {
        "id": "kPuom1RL4rcA"
      }
    },
    {
      "cell_type": "markdown",
      "source": [
        "Q.18.  In what situations are lists preferred over dictionaries?"
      ],
      "metadata": {
        "id": "cpF3-u9p5o0i"
      }
    },
    {
      "cell_type": "markdown",
      "source": [
        "Ans. Lists are preferred over dictionaries when the data is an ordered sequence and you need to access items by their position or index. They are also better when you need to store a collection of items without a unique identifier for each.\n",
        "\n",
        "Situations where lists are preferred :\n",
        "\n",
        "1. Maintaining order\n",
        "\n",
        "2. Accessing by index\n",
        "\n",
        "3. Storing non-unique items\n",
        "\n",
        "4. Simple Collections"
      ],
      "metadata": {
        "id": "crtgB83F5xGM"
      }
    },
    {
      "cell_type": "markdown",
      "source": [
        "Q.19. Why are dictionaries considered unordered, and how does that affect data retrieval?"
      ],
      "metadata": {
        "id": "ragbtz317Jk3"
      }
    },
    {
      "cell_type": "markdown",
      "source": [
        "Ans. Dictionaries are considered unordered because they're designed for fast data retrieval, not for maintaining a specific sequence of elements. They don't store items based on a numerical index like a list or array. This is because dictionaries are typically implemented using a data structure called a hash table.\n",
        "\n",
        "Impact on Data Retrieval:\n",
        "\n",
        "Positive Impact: This is the core reason for a dictionary's fast lookup time (O(1)). By not maintaining order, dictionaries can jump directly to the data's location, making them incredibly efficient for key-based retrieval.\n",
        "\n",
        "Negative Impact: If your task requires the data to be in a specific order (e.g., chronological or alphabetical), you cannot rely on the dictionary itself to maintain that order. You would have to retrieve the keys and sort them manually before processing the data.\n",
        "\n"
      ],
      "metadata": {
        "id": "_IAWH3ZN7O1n"
      }
    },
    {
      "cell_type": "markdown",
      "source": [
        "Q.20.  Explain the difference between a list and a dictionary in terms of data retrieval."
      ],
      "metadata": {
        "id": "AvEnsjKC94-8"
      }
    },
    {
      "cell_type": "markdown",
      "source": [
        "Ans. The primary difference in data retrieval between a list and a dictionary is how they locate data: lists find items by their position (index), whereas dictionaries find them by their unique key. This fundamental design choice leads to a significant difference in performance."
      ],
      "metadata": {
        "id": "erth_d86-ADh"
      }
    },
    {
      "cell_type": "markdown",
      "source": [
        "# **Practical** **Questions**"
      ],
      "metadata": {
        "id": "cLzRqtad_49y"
      }
    },
    {
      "cell_type": "markdown",
      "source": [
        "Q.1. Write a code to create a string with your name and print it."
      ],
      "metadata": {
        "id": "RITsUIhiAKkI"
      }
    },
    {
      "cell_type": "code",
      "source": [
        "# create a string\n",
        "name=\"Priya Pareek\"\n",
        "print(name)"
      ],
      "metadata": {
        "colab": {
          "base_uri": "https://localhost:8080/"
        },
        "id": "whCm3AiQBFao",
        "outputId": "312a054d-f017-4ff8-9d5b-d0970d91330f"
      },
      "execution_count": 42,
      "outputs": [
        {
          "output_type": "stream",
          "name": "stdout",
          "text": [
            "Priya Pareek\n"
          ]
        }
      ]
    },
    {
      "cell_type": "markdown",
      "source": [
        "Q.2. Write a code to find the length of the string \"Hello World\"."
      ],
      "metadata": {
        "id": "xviDb0KyBN5W"
      }
    },
    {
      "cell_type": "code",
      "source": [
        "# create a variable string\n",
        "my_string = \"Hello World\"\n",
        "length = len(my_string)\n",
        "print(f\"the length of the string is {length}\")\n",
        "print(f\"the length is: {len('Hello Wrold')}\")\n"
      ],
      "metadata": {
        "colab": {
          "base_uri": "https://localhost:8080/"
        },
        "id": "pAD5YWRsBUAj",
        "outputId": "3e1775b9-6aac-4c2e-9817-27a84ecf3335"
      },
      "execution_count": 43,
      "outputs": [
        {
          "output_type": "stream",
          "name": "stdout",
          "text": [
            "the length of the string is 11\n",
            "the length is: 11\n"
          ]
        }
      ]
    },
    {
      "cell_type": "markdown",
      "source": [
        "Q.3.  Write a code to slice the first 3 characters from the string \"Python Programming\"."
      ],
      "metadata": {
        "id": "9LX3ui6fCYxZ"
      }
    },
    {
      "cell_type": "code",
      "source": [
        "# Create the original string.\n",
        "my_string = \"Python Programming\"\n",
        "\n",
        "# Slice the string to get the first 3 characters.\n",
        "first_three_characters = my_string[0:3]\n",
        "\n",
        "# Print the original string and the sliced result.\n",
        "print(f\"Original string: '{my_string}'\")\n",
        "print(f\"The first 3 characters are: '{first_three_characters}'\")\n",
        "\n"
      ],
      "metadata": {
        "colab": {
          "base_uri": "https://localhost:8080/"
        },
        "id": "tMdkCkn7CfyZ",
        "outputId": "340b10b3-2be0-4f0f-cb06-39aa6d817d0a"
      },
      "execution_count": 45,
      "outputs": [
        {
          "output_type": "stream",
          "name": "stdout",
          "text": [
            "Original string: 'Python Programming'\n",
            "The first 3 characters are: 'Pyt'\n"
          ]
        }
      ]
    },
    {
      "cell_type": "markdown",
      "source": [
        "Q.4.  Write a code to convert the string \"hello\" to uppercase."
      ],
      "metadata": {
        "id": "VIfiLFmdD1ZN"
      }
    },
    {
      "cell_type": "code",
      "source": [
        "lowercase_string = \"hello\"\n",
        "print(f\"Original string: '{my_string}'\")\n",
        "uppercase_string = lowercase_string.upper()\n",
        "print(uppercase_string)\n",
        "print(\"world\" .upper())"
      ],
      "metadata": {
        "colab": {
          "base_uri": "https://localhost:8080/"
        },
        "id": "5-_L3h2ND_Hn",
        "outputId": "7ea991ea-68e7-4b4f-c771-561757cef612"
      },
      "execution_count": 49,
      "outputs": [
        {
          "output_type": "stream",
          "name": "stdout",
          "text": [
            "Original string: 'Python Programming'\n",
            "HELLO\n",
            "WORLD\n"
          ]
        }
      ]
    },
    {
      "cell_type": "markdown",
      "source": [
        "Q.5.  Write a code to replace the word \"apple\" with \"orange\" in the string \"I like apple\"."
      ],
      "metadata": {
        "id": "bFlm37sxE4nG"
      }
    },
    {
      "cell_type": "code",
      "source": [
        "my_string = \"I like apple\"\n",
        "new_string = my_string.replace(\"apple\", \"orange\")\n",
        "print(new_string)\n",
        "\n",
        "\n"
      ],
      "metadata": {
        "colab": {
          "base_uri": "https://localhost:8080/"
        },
        "id": "Yb3bV434E_qv",
        "outputId": "7954cf42-69a6-42dd-c25d-5f955286e8ab"
      },
      "execution_count": null,
      "outputs": [
        {
          "output_type": "stream",
          "name": "stdout",
          "text": [
            "I like orange\n"
          ]
        }
      ]
    },
    {
      "cell_type": "markdown",
      "source": [
        "Q.6. Write a code to create a list with numbers 1 to 5 and print it."
      ],
      "metadata": {
        "id": "ZlhAtbNhFowc"
      }
    },
    {
      "cell_type": "code",
      "source": [
        "my_list = [1, 2, 3, 4, 5]\n",
        "print(my_list)"
      ],
      "metadata": {
        "id": "ATtKViUGFuVg",
        "colab": {
          "base_uri": "https://localhost:8080/"
        },
        "outputId": "cd458961-5c22-4126-86bf-eccb2189ca27"
      },
      "execution_count": 1,
      "outputs": [
        {
          "output_type": "stream",
          "name": "stdout",
          "text": [
            "[1, 2, 3, 4, 5]\n"
          ]
        }
      ]
    },
    {
      "cell_type": "markdown",
      "source": [
        "Q.7. Write a code to append the number 10 to the list [1, 2, 3, 4]."
      ],
      "metadata": {
        "id": "4mP0otah7b8b"
      }
    },
    {
      "cell_type": "code",
      "source": [
        "my_list = [1, 2, 3, 4]\n",
        "my_list.append(10)\n",
        "print(my_list)"
      ],
      "metadata": {
        "colab": {
          "base_uri": "https://localhost:8080/"
        },
        "id": "-j5B1A7d7iaM",
        "outputId": "ca681fab-66fb-488b-8747-bdb175e190b6"
      },
      "execution_count": 2,
      "outputs": [
        {
          "output_type": "stream",
          "name": "stdout",
          "text": [
            "[1, 2, 3, 4, 10]\n"
          ]
        }
      ]
    },
    {
      "cell_type": "markdown",
      "source": [
        "Q.8. Write a code to remove the number 3 from the list [1, 2, 3, 4, 5]."
      ],
      "metadata": {
        "id": "4HlpQM9v8L0Q"
      }
    },
    {
      "cell_type": "code",
      "source": [
        "my_list = [1,2,3,4,5]\n",
        "my_list.remove(3)\n",
        "print(my_list)"
      ],
      "metadata": {
        "colab": {
          "base_uri": "https://localhost:8080/"
        },
        "id": "KfYrGkY48P5u",
        "outputId": "aa0ace28-7433-46f5-9f9a-2fc4f103fd66"
      },
      "execution_count": 3,
      "outputs": [
        {
          "output_type": "stream",
          "name": "stdout",
          "text": [
            "[1, 2, 4, 5]\n"
          ]
        }
      ]
    },
    {
      "cell_type": "markdown",
      "source": [
        "Q.9. Write a code to access the second element in the list ['a', 'b', 'c', 'd']."
      ],
      "metadata": {
        "id": "CF0dtPz88hkN"
      }
    },
    {
      "cell_type": "code",
      "source": [
        "my_list = ['a', 'b', 'c', 'd']\n",
        "second_element = my_list[1]\n",
        "print(second_element)"
      ],
      "metadata": {
        "colab": {
          "base_uri": "https://localhost:8080/"
        },
        "id": "xK591hhy8--D",
        "outputId": "e05d3fd5-5a7f-4017-970b-ac4a176f13b5"
      },
      "execution_count": 5,
      "outputs": [
        {
          "output_type": "stream",
          "name": "stdout",
          "text": [
            "b\n"
          ]
        }
      ]
    },
    {
      "cell_type": "markdown",
      "source": [
        "Q.10. Write a code to reverse the list [10, 20, 30, 40, 50]."
      ],
      "metadata": {
        "id": "zvyyrv-j9EiT"
      }
    },
    {
      "cell_type": "code",
      "source": [
        "my_list = [10, 20, 30, 40, 50]\n",
        "my_list.reverse()\n",
        "print(my_list)"
      ],
      "metadata": {
        "colab": {
          "base_uri": "https://localhost:8080/"
        },
        "id": "vtPEBYsy9Kpe",
        "outputId": "6598c8b6-49f0-464c-d33b-20cc59b4ba42"
      },
      "execution_count": 7,
      "outputs": [
        {
          "output_type": "stream",
          "name": "stdout",
          "text": [
            "[50, 40, 30, 20, 10]\n"
          ]
        }
      ]
    },
    {
      "cell_type": "markdown",
      "source": [
        "Q.11.  Write a code to create a tuple with the elements 100, 200, 300 and print it."
      ],
      "metadata": {
        "id": "_7TgUWdd92al"
      }
    },
    {
      "cell_type": "code",
      "source": [
        "my_tuple = [100, 200, 300]\n",
        "my_tuple = tuple(my_list)\n",
        "print(my_tuple)\n",
        "print(type(my_tuple))"
      ],
      "metadata": {
        "colab": {
          "base_uri": "https://localhost:8080/"
        },
        "id": "qnEM75JT98xH",
        "outputId": "fe93a404-5535-4144-baff-7cfa31b64355"
      },
      "execution_count": 10,
      "outputs": [
        {
          "output_type": "stream",
          "name": "stdout",
          "text": [
            "(100, 200, 300)\n",
            "<class 'tuple'>\n"
          ]
        }
      ]
    },
    {
      "cell_type": "markdown",
      "source": [
        "Q.12.  Write a code to access the second-to-last element of the tuple ('red', 'green', 'blue', 'yellow')."
      ],
      "metadata": {
        "id": "jENiwYZd-ynD"
      }
    },
    {
      "cell_type": "code",
      "source": [
        "my_tuple = ['red', 'green', 'blue', 'yellow']\n",
        "second_to_last_element = my_tuple[-2]\n",
        "print(second_to_last_element)"
      ],
      "metadata": {
        "colab": {
          "base_uri": "https://localhost:8080/"
        },
        "id": "UAeSEdC8-4Bq",
        "outputId": "1aa35169-ca04-423d-8a8d-d1ff1acda732"
      },
      "execution_count": 11,
      "outputs": [
        {
          "output_type": "stream",
          "name": "stdout",
          "text": [
            "blue\n"
          ]
        }
      ]
    },
    {
      "cell_type": "markdown",
      "source": [
        "Q.13.  Write a code to find the minimum number in the tuple (10, 20, 5, 15)."
      ],
      "metadata": {
        "id": "Pp1Sxxao_Vpz"
      }
    },
    {
      "cell_type": "code",
      "source": [
        "my_tuple = (10, 20, 5, 15)\n",
        "minimum_number = min(my_tuple)\n",
        "print(minimum_number)\n",
        "print(f\"The minimum number is: {minimum_number}\")"
      ],
      "metadata": {
        "colab": {
          "base_uri": "https://localhost:8080/"
        },
        "id": "C5-jYypa_bKK",
        "outputId": "b9038166-4063-4633-c3e3-13c7ebb9d0a6"
      },
      "execution_count": 13,
      "outputs": [
        {
          "output_type": "stream",
          "name": "stdout",
          "text": [
            "5\n",
            "The minimum number is: 5\n"
          ]
        }
      ]
    },
    {
      "cell_type": "markdown",
      "source": [
        "Q.14.  Write a code to find the index of the element \"cat\" in the tuple ('dog', 'cat', 'rabbit')."
      ],
      "metadata": {
        "id": "Ln5ie77sAWOu"
      }
    },
    {
      "cell_type": "code",
      "source": [
        "my_tuple = ('dog', 'cat', 'rabbit')\n",
        "index_of_cat = my_tuple.index('cat')\n",
        "print(f\"The index of 'cat' is: {index_of_cat}\")"
      ],
      "metadata": {
        "colab": {
          "base_uri": "https://localhost:8080/"
        },
        "id": "1RgjIE99Aj_M",
        "outputId": "8c2a39ce-d444-4531-9aaa-47f27008dcb7"
      },
      "execution_count": 14,
      "outputs": [
        {
          "output_type": "stream",
          "name": "stdout",
          "text": [
            "The index of 'cat' is: 1\n"
          ]
        }
      ]
    },
    {
      "cell_type": "markdown",
      "source": [
        "Q.15.  Write a code to create a tuple containing three different fruits and check if \"kiwi\" is in it."
      ],
      "metadata": {
        "id": "oAr2sOfYBdeO"
      }
    },
    {
      "cell_type": "code",
      "source": [
        "# create a tuple of fruits\n",
        "fruits = ('apple', 'banana', 'orange')\n",
        "\n",
        "\n",
        "# check if 'kiwi' is in the tuple\n",
        "if 'kiwi' in fruits:\n",
        "    print('kiwi is in the tuple')\n",
        "else:\n",
        "    print('kiwi is not in the tuple')"
      ],
      "metadata": {
        "colab": {
          "base_uri": "https://localhost:8080/"
        },
        "id": "4K5S-Vk2Bi8P",
        "outputId": "01aa3bef-c58e-4d1c-c3a0-5d825046b063"
      },
      "execution_count": 16,
      "outputs": [
        {
          "output_type": "stream",
          "name": "stdout",
          "text": [
            "kiwi is not in the tuple\n"
          ]
        }
      ]
    },
    {
      "cell_type": "markdown",
      "source": [
        "Q.16.  Write a code to create a set with the elements 'a', 'b', 'c' and print it."
      ],
      "metadata": {
        "id": "6wiBNG9yEM0W"
      }
    },
    {
      "cell_type": "code",
      "source": [
        "my_set = {'a', 'b', 'c'}\n",
        "print(my_set)"
      ],
      "metadata": {
        "colab": {
          "base_uri": "https://localhost:8080/"
        },
        "id": "dySjJN1xEaeW",
        "outputId": "4674a151-ac19-400b-f04c-d6ff305de083"
      },
      "execution_count": 18,
      "outputs": [
        {
          "output_type": "stream",
          "name": "stdout",
          "text": [
            "{'a', 'c', 'b'}\n"
          ]
        }
      ]
    },
    {
      "cell_type": "markdown",
      "source": [
        "Q.17. Write a code to clear all elements from the set {1, 2, 3, 4, 5}."
      ],
      "metadata": {
        "id": "QRd2PqXsFZdd"
      }
    },
    {
      "cell_type": "code",
      "source": [
        "my_set = {1, 2, 3, 4, 5}\n",
        "print(f\"Original set: {my_set}\")\n",
        "my_set.clear()\n",
        "print(f\"Set after clearing: {my_set}\")"
      ],
      "metadata": {
        "colab": {
          "base_uri": "https://localhost:8080/"
        },
        "id": "Dr1wadWQFf8E",
        "outputId": "d0602b8e-b762-4702-808c-8133da425d13"
      },
      "execution_count": 20,
      "outputs": [
        {
          "output_type": "stream",
          "name": "stdout",
          "text": [
            "Original set: {1, 2, 3, 4, 5}\n",
            "Set after clearing: set()\n"
          ]
        }
      ]
    },
    {
      "cell_type": "markdown",
      "source": [
        "Q.18. Write a code to remove the element 4 from the set {1, 2, 3, 4}."
      ],
      "metadata": {
        "id": "SnxAFzEOGJo3"
      }
    },
    {
      "cell_type": "code",
      "source": [
        "my_set = {1, 2, 3, 4}\n",
        "print(f\"Original set: {my_set}\")\n",
        "my_set.remove(4)\n",
        "print(f\"Set after removing 4: {my_set}\")"
      ],
      "metadata": {
        "colab": {
          "base_uri": "https://localhost:8080/"
        },
        "id": "VpO0DGDBGQtJ",
        "outputId": "71408d43-e99b-48b6-c602-383238c0aa87"
      },
      "execution_count": 22,
      "outputs": [
        {
          "output_type": "stream",
          "name": "stdout",
          "text": [
            "Original set: {1, 2, 3, 4}\n",
            "Set after removing 4: {1, 2, 3}\n"
          ]
        }
      ]
    },
    {
      "cell_type": "markdown",
      "source": [
        "Q.19. Write a code to find the union of two sets {1, 2, 3} and {3, 4, 5}."
      ],
      "metadata": {
        "id": "juJIFl-8HivG"
      }
    },
    {
      "cell_type": "code",
      "source": [
        "# create the first set\n",
        "set1 = {1, 2, 3}\n",
        "\n",
        "# create the second set\n",
        "set2 = {3, 4, 5}\n",
        "\n",
        "# find the union of the two sets\n",
        "union_set = set1.union(set2)\n",
        "\n",
        "print(f\"set 1: {set1}\")\n",
        "print(f\"set 2: {set2}\")\n",
        "print(f\"Union of set1 and set2: {union_set}\")"
      ],
      "metadata": {
        "colab": {
          "base_uri": "https://localhost:8080/"
        },
        "id": "E3n8ttB5Hnf0",
        "outputId": "b948f7d7-be1b-440a-845c-7433d9a183cb"
      },
      "execution_count": 23,
      "outputs": [
        {
          "output_type": "stream",
          "name": "stdout",
          "text": [
            "set 1: {1, 2, 3}\n",
            "set 2: {3, 4, 5}\n",
            "Union of set1 and set2: {1, 2, 3, 4, 5}\n"
          ]
        }
      ]
    },
    {
      "cell_type": "markdown",
      "source": [
        "Q.20.  Write a code to find the intersection of two sets {1, 2, 3} and {2, 3, 4}."
      ],
      "metadata": {
        "id": "ku6H-id2IcQ-"
      }
    },
    {
      "cell_type": "code",
      "source": [
        "# create the first set with elements 1, 2, and 3.\n",
        "set1 = {1, 2, 3}\n",
        "\n",
        "# create the second set with elements 2, 3, and 4.\n",
        "set2 = {2, 3, 4}\n",
        "\n",
        "# find the intersection of the two sets.\n",
        "intersection_set = set1.intersection(set2)\n",
        "\n",
        "#print the original sets for clarity\n",
        "print(f\"set 1: {set1}\")\n",
        "print(f\"set 2: {set2}\")\n",
        "\n",
        "#print the intersection set\n",
        "print(f\"Intersection of set1 and set2: {intersection_set}\")"
      ],
      "metadata": {
        "colab": {
          "base_uri": "https://localhost:8080/"
        },
        "id": "Zy1G33vKIhr3",
        "outputId": "58e8d06c-dc6e-4ed4-eb1d-7eafa6c9e464"
      },
      "execution_count": 25,
      "outputs": [
        {
          "output_type": "stream",
          "name": "stdout",
          "text": [
            "set 1: {1, 2, 3}\n",
            "set 2: {2, 3, 4}\n",
            "Intersection of set1 and set2: {2, 3}\n"
          ]
        }
      ]
    },
    {
      "cell_type": "markdown",
      "source": [
        "Q.21. Write a code to create a dictionary with the keys \"name\", \"age\", and \"city\", and print it."
      ],
      "metadata": {
        "id": "Kopi2CeyJ2DQ"
      }
    },
    {
      "cell_type": "code",
      "source": [
        "# create a dictionary named 'my_dictionary'\n",
        "my_dictionary = {\n",
        "    'name': 'Priya',\n",
        "    'age': 24,\n",
        "    'city': 'Jaipur'\n",
        "}\n",
        "\n",
        "# print the dictionary\n",
        "print(my_dictionary)\n",
        "print(f\"The created dictionary is: {my_dictionary}\")"
      ],
      "metadata": {
        "colab": {
          "base_uri": "https://localhost:8080/"
        },
        "id": "Uckq-IAgJ-A7",
        "outputId": "78c80c02-c167-4892-bc71-0a0575b78ede"
      },
      "execution_count": 26,
      "outputs": [
        {
          "output_type": "stream",
          "name": "stdout",
          "text": [
            "{'name': 'Priya', 'age': 24, 'city': 'Jaipur'}\n",
            "The created dictionary is: {'name': 'Priya', 'age': 24, 'city': 'Jaipur'}\n"
          ]
        }
      ]
    },
    {
      "cell_type": "markdown",
      "source": [
        "Q.22.  Write a code to add a new key-value pair \"country\": \"USA\" to the dictionary {'name': 'John', 'age': 25}."
      ],
      "metadata": {
        "id": "FDMZ5ILoK0FI"
      }
    },
    {
      "cell_type": "code",
      "source": [
        "# create the initial dictionary with \"name\" and \"age\" key-value pairs.\n",
        "my_dictionary = {'name': 'John', 'age': 25}\n",
        "print(f\"Original dictionary: {my_dictionary}\")\n",
        "\n",
        "# add a new key-value pair \"country\": \"USA\" to the dictionary.\n",
        "my_dictionary['country'] = 'USA'\n",
        "\n",
        "# print the dictionary again to show the new key-value pair has been added\n",
        "print(f\"Dictionary after adding 'country': {my_dictionary}\")"
      ],
      "metadata": {
        "colab": {
          "base_uri": "https://localhost:8080/"
        },
        "id": "u8R84tqDK7j0",
        "outputId": "67939348-5c5e-4b29-fe7f-a4af46fe3ddd"
      },
      "execution_count": 27,
      "outputs": [
        {
          "output_type": "stream",
          "name": "stdout",
          "text": [
            "Original dictionary: {'name': 'John', 'age': 25}\n",
            "Dictionary after adding 'country': {'name': 'John', 'age': 25, 'country': 'USA'}\n"
          ]
        }
      ]
    },
    {
      "cell_type": "markdown",
      "source": [
        "Q.23.  Write a code to access the value associated with the key \"name\" in the dictionary {'name': 'Alice', 'age': 30}"
      ],
      "metadata": {
        "id": "BGhB-3h5MXTl"
      }
    },
    {
      "cell_type": "code",
      "source": [
        "# Create the dictionary with \"name\" and \"age\" key-value pairs.\n",
        "person = {\n",
        "    'name': 'Alice',\n",
        "    'age': 30\n",
        "}\n",
        "\n",
        "# Access the value associated with the key \"name\" in the dictionary.\n",
        "name_value = person['name']\n",
        "\n",
        "# Print the value.\n",
        "print(f\"The value associated with the key 'name' is: {name_value}\")\n",
        "\n",
        "# You can also access values directly in the print statement.\n",
        "print(f\"The value associated with the key 'name' is: {person['name']}\")\n"
      ],
      "metadata": {
        "colab": {
          "base_uri": "https://localhost:8080/"
        },
        "id": "YOkr6SczMdPB",
        "outputId": "abd0ff21-c376-432a-c603-24bf51a2d729"
      },
      "execution_count": 28,
      "outputs": [
        {
          "output_type": "stream",
          "name": "stdout",
          "text": [
            "The value associated with the key 'name' is: Alice\n",
            "The value associated with the key 'name' is: Alice\n"
          ]
        }
      ]
    },
    {
      "cell_type": "markdown",
      "source": [
        "Q.24. Write a code to remove the key \"age\" from the dictionary {'name': 'Bob', 'age': 22, 'city': 'New York'}."
      ],
      "metadata": {
        "id": "iYNjejHrNWlt"
      }
    },
    {
      "cell_type": "code",
      "source": [
        "# create the initial dictionary\n",
        "my_dictionary = {'name': 'Bob', 'age': 22, 'city': 'New York'}\n",
        "print(f\"Original dictionary: {my_dictionary}\")\n",
        "\n",
        "# remove the key \"age\" from the dictionary\n",
        "del my_dictionary['age']\n",
        "# Print the dictionary again to show that the key \"age\" has been removed.\n",
        "print(f\"Dictionary after removing 'age': {my_dictionary}\")"
      ],
      "metadata": {
        "colab": {
          "base_uri": "https://localhost:8080/"
        },
        "id": "v4_kkKVBNmBO",
        "outputId": "eeb79153-4fe1-4c39-8c06-5a8a8355063c"
      },
      "execution_count": 30,
      "outputs": [
        {
          "output_type": "stream",
          "name": "stdout",
          "text": [
            "Original dictionary: {'name': 'Bob', 'age': 22, 'city': 'New York'}\n",
            "Dictionary after removing 'age': {'name': 'Bob', 'city': 'New York'}\n"
          ]
        }
      ]
    },
    {
      "cell_type": "markdown",
      "source": [
        "Q.25.  Write a code to check if the key \"city\" exists in the dictionary {'name': 'Alice', 'city': 'Paris'}."
      ],
      "metadata": {
        "id": "hmurOlZHOOs9"
      }
    },
    {
      "cell_type": "code",
      "source": [
        "# create the dictionary\n",
        "my_dictionary = {\n",
        "    'name': 'Alice',\n",
        "    'city': 'Paris'\n",
        "}\n",
        "\n",
        "# check if the key \"city\" exists in the dictionary\n",
        "if 'city' in my_dictionary:\n",
        "    print(\"The key 'city' exists in the dictionary.\")\n",
        "else:\n",
        "  print (\"The key 'city' does not exist in the dictionary.\")"
      ],
      "metadata": {
        "colab": {
          "base_uri": "https://localhost:8080/"
        },
        "id": "eg9cLQDVOTAL",
        "outputId": "4de41879-2c66-4f95-fc92-28f82be5d2b3"
      },
      "execution_count": 31,
      "outputs": [
        {
          "output_type": "stream",
          "name": "stdout",
          "text": [
            "The key 'city' exists in the dictionary.\n"
          ]
        }
      ]
    },
    {
      "cell_type": "markdown",
      "source": [
        "Q.26. Write a code to create a list, a tuple, and a dictionary, and print them all."
      ],
      "metadata": {
        "id": "9d8hea01QERX"
      }
    },
    {
      "cell_type": "code",
      "source": [
        "# create a list\n",
        "my_list = [10, 20, 30, 40]\n",
        "\n",
        "# create a tuple\n",
        "my_tuple = (\"apple\", \"banana\", \"0range\")\n",
        "\n",
        "# create a dictionary\n",
        "my_dictionary = {\n",
        "    \"name\": \"Priya\",\n",
        "    \"age\": 24,\n",
        "    \"city\": \"Jaipur\"\n",
        "}\n",
        "# Print each of the data structures with a descriptive label.\n",
        "print(\"List:\", my_list)\n",
        "print(\"Tuple:\", my_tuple)\n",
        "print(\"Dictionary:\", my_dictionary)"
      ],
      "metadata": {
        "colab": {
          "base_uri": "https://localhost:8080/"
        },
        "id": "kbbMCofgQJ-c",
        "outputId": "84992ea9-3f1b-4d56-cd9f-68e5d2121049"
      },
      "execution_count": 32,
      "outputs": [
        {
          "output_type": "stream",
          "name": "stdout",
          "text": [
            "List: [10, 20, 30, 40]\n",
            "Tuple: ('apple', 'banana', '0range')\n",
            "Dictionary: {'name': 'Priya', 'age': 24, 'city': 'Jaipur'}\n"
          ]
        }
      ]
    },
    {
      "cell_type": "markdown",
      "source": [
        "Q.27.  Write a code to create a list of 5 random numbers between 1 and 100, sort it in ascending order, and print the\n",
        "result.(replaced)"
      ],
      "metadata": {
        "id": "Cema2EzYRwgW"
      }
    },
    {
      "cell_type": "code",
      "source": [
        "import random\n",
        "\n",
        "# create a list of 5 random number between 1 and 100\n",
        "random_numbers = [random.randint(1, 100) for _ in range(5)]\n",
        "\n",
        "# sort the list in ascending order\n",
        "random_numbers.sort()\n",
        "\n",
        "# print the sorted list\n",
        "print(random_numbers)"
      ],
      "metadata": {
        "colab": {
          "base_uri": "https://localhost:8080/"
        },
        "id": "W-yP6hCQTgcV",
        "outputId": "a6980d41-5711-49a5-f65c-8222ea2cbeb6"
      },
      "execution_count": 36,
      "outputs": [
        {
          "output_type": "stream",
          "name": "stdout",
          "text": [
            "[10, 15, 49, 60, 64]\n"
          ]
        }
      ]
    },
    {
      "cell_type": "markdown",
      "source": [
        "Q.28.  Write a code to create a list with strings and print the element at the third index."
      ],
      "metadata": {
        "id": "eGh-sEucVtZK"
      }
    },
    {
      "cell_type": "code",
      "source": [
        "# create a list of strings\n",
        "my_list = [\"apple\", \"banana\", \"cherry\", \"date\", \"elderberry\"]\n",
        "\n",
        "# print the full list of reference.\n",
        "print(f\"The full list is: {my_list}\")\n",
        "\n",
        "# Get the element at the third index and assign it to a variable.\n",
        "element_at_third_index = my_list[3]\n",
        "\n",
        "# print the element at the third index.\n",
        "print(f\"The element at index 3 is: {my_list[3]}\")\n",
        "print(f\"The element at the third index is: {element_at_third_index}\")"
      ],
      "metadata": {
        "colab": {
          "base_uri": "https://localhost:8080/"
        },
        "id": "b-FpyiSOVyis",
        "outputId": "b0005618-3519-49db-b4fa-a3aa308914d4"
      },
      "execution_count": 38,
      "outputs": [
        {
          "output_type": "stream",
          "name": "stdout",
          "text": [
            "The full list is: ['apple', 'banana', 'cherry', 'date', 'elderberry']\n",
            "The element at index 3 is: date\n",
            "The element at the third index is: date\n"
          ]
        }
      ]
    },
    {
      "cell_type": "markdown",
      "source": [
        "Q.29.  Write a code to combine two dictionaries into one and print the result."
      ],
      "metadata": {
        "id": "rAjj7hD3asI-"
      }
    },
    {
      "cell_type": "code",
      "source": [
        "# create the first dictionary\n",
        "dict1 = {'name': 'Priya', 'age': 24}\n",
        "\n",
        "# create the second dictionary\n",
        "dict2 = {'city': 'Jaipur', 'country': 'India'}\n",
        "\n",
        "# combine the two dictionaries into one\n",
        "combined_dict = {**dict1, **dict2}\n",
        "\n",
        "# print the combined dictionary\n",
        "print(combined_dict)"
      ],
      "metadata": {
        "colab": {
          "base_uri": "https://localhost:8080/"
        },
        "id": "7FWdpAA7axwE",
        "outputId": "37edbb2a-000a-41bd-ec1f-541e51791159"
      },
      "execution_count": 39,
      "outputs": [
        {
          "output_type": "stream",
          "name": "stdout",
          "text": [
            "{'name': 'Priya', 'age': 24, 'city': 'Jaipur', 'country': 'India'}\n"
          ]
        }
      ]
    },
    {
      "cell_type": "markdown",
      "source": [
        "Q.30.  Write a code to convert a list of strings into a set."
      ],
      "metadata": {
        "id": "eeW7jsP9cw2s"
      }
    },
    {
      "cell_type": "code",
      "source": [
        "# Create a list of strings, including some duplicates.\n",
        "my_list = [\"apple\", \"banana\",\"cherry\", \"apple\", \"date\", \"banana\"]\n",
        "\n",
        "# Print the original list to show its contents.\n",
        "print(f\"Original list: {my_list}\")\n",
        "\n",
        "# Convert the list into a set.\n",
        "my_set = set(my_list)\n",
        "\n",
        "# Print the set to show the unique elements.\n",
        "print(f\"Set after converting to a set: {my_set}\")"
      ],
      "metadata": {
        "colab": {
          "base_uri": "https://localhost:8080/"
        },
        "id": "KaNethMmc2KB",
        "outputId": "61237698-1b42-401a-bf99-530d0061128d"
      },
      "execution_count": 41,
      "outputs": [
        {
          "output_type": "stream",
          "name": "stdout",
          "text": [
            "Original list: ['apple', 'banana', 'cherry', 'apple', 'date', 'banana']\n",
            "Set after converting to a set: {'cherry', 'apple', 'date', 'banana'}\n"
          ]
        }
      ]
    },
    {
      "cell_type": "markdown",
      "source": [
        "# ***-----------END----------***\n",
        "\n",
        "\n",
        "\n"
      ],
      "metadata": {
        "id": "aIbahBvMen-C"
      }
    }
  ]
}